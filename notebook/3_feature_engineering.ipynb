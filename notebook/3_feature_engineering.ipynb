{
 "cells": [
  {
   "cell_type": "markdown",
   "metadata": {},
   "source": [
    "# Feature Engineering and Modelling\n",
    "\n",
    "---\n",
    "\n",
    "1. Import packages\n",
    "2. Load data\n",
    "3. Feature engineering\n",
    "\n",
    "---\n",
    "\n",
    "## 1.) Import packages"
   ]
  },
  {
   "cell_type": "code",
   "execution_count": 2,
   "metadata": {},
   "outputs": [],
   "source": [
    "import warnings\n",
    "warnings.filterwarnings(\"ignore\", category=FutureWarning)"
   ]
  },
  {
   "cell_type": "code",
   "execution_count": 3,
   "metadata": {},
   "outputs": [],
   "source": [
    "import pandas as pd\n",
    "import numpy as np\n",
    "from sklearn.preprocessing import LabelEncoder\n",
    "from sklearn.preprocessing import StandardScaler\n",
    "import os\n",
    "\n",
    "# Shows plots in jupyter notebook\n",
    "%matplotlib inline"
   ]
  },
  {
   "cell_type": "markdown",
   "metadata": {},
   "source": [
    "---\n",
    "## 2.) Loading data"
   ]
  },
  {
   "cell_type": "code",
   "execution_count": 4,
   "metadata": {},
   "outputs": [],
   "source": [
    "df=pd.read_csv('../data/processed_data/indian_youngsters_health_data.csv')"
   ]
  },
  {
   "cell_type": "code",
   "execution_count": 5,
   "metadata": {},
   "outputs": [
    {
     "data": {
      "text/html": [
       "<div>\n",
       "<style scoped>\n",
       "    .dataframe tbody tr th:only-of-type {\n",
       "        vertical-align: middle;\n",
       "    }\n",
       "\n",
       "    .dataframe tbody tr th {\n",
       "        vertical-align: top;\n",
       "    }\n",
       "\n",
       "    .dataframe thead th {\n",
       "        text-align: right;\n",
       "    }\n",
       "</style>\n",
       "<table border=\"1\" class=\"dataframe\">\n",
       "  <thead>\n",
       "    <tr style=\"text-align: right;\">\n",
       "      <th></th>\n",
       "      <th>ID</th>\n",
       "      <th>Age</th>\n",
       "      <th>Gender</th>\n",
       "      <th>Region</th>\n",
       "      <th>Family_Income</th>\n",
       "      <th>Family_History_Diabetes</th>\n",
       "      <th>Parent_Diabetes_Type</th>\n",
       "      <th>Genetic_Risk_Score</th>\n",
       "      <th>BMI</th>\n",
       "      <th>Physical_Activity_Level</th>\n",
       "      <th>...</th>\n",
       "      <th>Smoking</th>\n",
       "      <th>Alcohol_Consumption</th>\n",
       "      <th>Fasting_Blood_Sugar</th>\n",
       "      <th>HbA1c</th>\n",
       "      <th>Cholesterol_Level</th>\n",
       "      <th>Prediabetes</th>\n",
       "      <th>Diabetes_Type</th>\n",
       "      <th>Sleep_Hours</th>\n",
       "      <th>Stress_Level</th>\n",
       "      <th>Screen_Time</th>\n",
       "    </tr>\n",
       "  </thead>\n",
       "  <tbody>\n",
       "    <tr>\n",
       "      <th>0</th>\n",
       "      <td>1</td>\n",
       "      <td>21</td>\n",
       "      <td>Male</td>\n",
       "      <td>North</td>\n",
       "      <td>2209393</td>\n",
       "      <td>No</td>\n",
       "      <td>No Diabetes</td>\n",
       "      <td>6</td>\n",
       "      <td>31.4</td>\n",
       "      <td>Sedentary</td>\n",
       "      <td>...</td>\n",
       "      <td>Yes</td>\n",
       "      <td>No</td>\n",
       "      <td>95.6</td>\n",
       "      <td>9.5</td>\n",
       "      <td>163.3</td>\n",
       "      <td>Yes</td>\n",
       "      <td>No Diabetes</td>\n",
       "      <td>7.7</td>\n",
       "      <td>7</td>\n",
       "      <td>6.8</td>\n",
       "    </tr>\n",
       "    <tr>\n",
       "      <th>1</th>\n",
       "      <td>2</td>\n",
       "      <td>18</td>\n",
       "      <td>Female</td>\n",
       "      <td>Central</td>\n",
       "      <td>387650</td>\n",
       "      <td>No</td>\n",
       "      <td>No Diabetes</td>\n",
       "      <td>5</td>\n",
       "      <td>24.4</td>\n",
       "      <td>Active</td>\n",
       "      <td>...</td>\n",
       "      <td>No</td>\n",
       "      <td>No</td>\n",
       "      <td>164.9</td>\n",
       "      <td>5.0</td>\n",
       "      <td>169.1</td>\n",
       "      <td>Yes</td>\n",
       "      <td>No Diabetes</td>\n",
       "      <td>7.9</td>\n",
       "      <td>8</td>\n",
       "      <td>6.0</td>\n",
       "    </tr>\n",
       "    <tr>\n",
       "      <th>2</th>\n",
       "      <td>3</td>\n",
       "      <td>25</td>\n",
       "      <td>Male</td>\n",
       "      <td>North</td>\n",
       "      <td>383333</td>\n",
       "      <td>No</td>\n",
       "      <td>No Diabetes</td>\n",
       "      <td>6</td>\n",
       "      <td>20.0</td>\n",
       "      <td>Moderate</td>\n",
       "      <td>...</td>\n",
       "      <td>No</td>\n",
       "      <td>No</td>\n",
       "      <td>110.5</td>\n",
       "      <td>8.3</td>\n",
       "      <td>296.3</td>\n",
       "      <td>Yes</td>\n",
       "      <td>Type 1</td>\n",
       "      <td>7.6</td>\n",
       "      <td>8</td>\n",
       "      <td>4.6</td>\n",
       "    </tr>\n",
       "  </tbody>\n",
       "</table>\n",
       "<p>3 rows × 22 columns</p>\n",
       "</div>"
      ],
      "text/plain": [
       "   ID  Age  Gender   Region  Family_Income Family_History_Diabetes  \\\n",
       "0   1   21    Male    North        2209393                      No   \n",
       "1   2   18  Female  Central         387650                      No   \n",
       "2   3   25    Male    North         383333                      No   \n",
       "\n",
       "  Parent_Diabetes_Type  Genetic_Risk_Score   BMI Physical_Activity_Level  ...  \\\n",
       "0          No Diabetes                   6  31.4               Sedentary  ...   \n",
       "1          No Diabetes                   5  24.4                  Active  ...   \n",
       "2          No Diabetes                   6  20.0                Moderate  ...   \n",
       "\n",
       "  Smoking  Alcohol_Consumption Fasting_Blood_Sugar HbA1c  Cholesterol_Level  \\\n",
       "0     Yes                   No                95.6   9.5              163.3   \n",
       "1      No                   No               164.9   5.0              169.1   \n",
       "2      No                   No               110.5   8.3              296.3   \n",
       "\n",
       "   Prediabetes  Diabetes_Type Sleep_Hours Stress_Level  Screen_Time  \n",
       "0          Yes    No Diabetes         7.7            7          6.8  \n",
       "1          Yes    No Diabetes         7.9            8          6.0  \n",
       "2          Yes         Type 1         7.6            8          4.6  \n",
       "\n",
       "[3 rows x 22 columns]"
      ]
     },
     "execution_count": 5,
     "metadata": {},
     "output_type": "execute_result"
    }
   ],
   "source": [
    "df.head(3)"
   ]
  },
  {
   "cell_type": "markdown",
   "metadata": {},
   "source": [
    "---\n",
    "\n",
    "## 3.) Feature engineering\n",
    "\n",
    "### 3.1 Combine BMI and Physical Activity Level\n",
    "\n",
    "Categorize individuals based on BMI and activity level into a risk score."
   ]
  },
  {
   "cell_type": "code",
   "execution_count": 6,
   "metadata": {},
   "outputs": [],
   "source": [
    "def bmi_activity_risk(bmi, activity):\n",
    "    if bmi >= 30 and activity == 'Sedentary':\n",
    "        return 'High Risk'\n",
    "    elif bmi < 25 and activity == 'Active':\n",
    "        return 'Low Risk'\n",
    "    else:\n",
    "        return 'Moderate Risk'\n",
    "\n",
    "df['BMI_Activity_Risk'] = df.apply(lambda row: bmi_activity_risk(row['BMI'], row['Physical_Activity_Level']), axis=1)"
   ]
  },
  {
   "cell_type": "markdown",
   "metadata": {},
   "source": [
    "### 3.2 Calculate Age Groups\n",
    "Group individuals into age categories."
   ]
  },
  {
   "cell_type": "code",
   "execution_count": 7,
   "metadata": {},
   "outputs": [],
   "source": [
    "def age_group(age):\n",
    "    if age < 20:\n",
    "        return 'Teen'\n",
    "    elif 20 <= age <= 40:\n",
    "        return 'Young Adult'\n",
    "    elif 40 < age <= 60:\n",
    "        return 'Middle Aged'\n",
    "    else:\n",
    "        return 'Senior'\n",
    "\n",
    "df['Age_Group'] = df['Age'].apply(age_group)"
   ]
  },
  {
   "cell_type": "markdown",
   "metadata": {},
   "source": [
    "### 3.3 Combine Stress and Sleep Hours\n",
    "Create a stress-to-sleep ratio as a new feature."
   ]
  },
  {
   "cell_type": "code",
   "execution_count": 8,
   "metadata": {},
   "outputs": [],
   "source": [
    "df['Stress_Sleep_Ratio'] = df['Stress_Level'] / (df['Sleep_Hours'] + 1)  # Add 1 to avoid division by zero"
   ]
  },
  {
   "cell_type": "markdown",
   "metadata": {},
   "source": [
    "---\n",
    "## 4.) Feature Interaction\n",
    "\n",
    "Combine existing features to create interaction terms.\n",
    "\n",
    "### 4.1 Interaction: Family History and Genetic Risk Score"
   ]
  },
  {
   "cell_type": "code",
   "execution_count": 9,
   "metadata": {},
   "outputs": [],
   "source": [
    "df['Genetic_Family_Risk'] = df['Family_History_Diabetes'] * df['Genetic_Risk_Score']"
   ]
  },
  {
   "cell_type": "markdown",
   "metadata": {},
   "source": [
    "### 4.2 Interaction: Smoking and Alcohol Consumption"
   ]
  },
  {
   "cell_type": "code",
   "execution_count": 10,
   "metadata": {},
   "outputs": [],
   "source": [
    "df['Unhealthy_Behavior_Score'] = df['Smoking'] + df['Alcohol_Consumption']"
   ]
  },
  {
   "cell_type": "markdown",
   "metadata": {},
   "source": [
    "---\n",
    "## 5.) Drop Irrelevant Features\n",
    "Remove columns not useful for modeling."
   ]
  },
  {
   "cell_type": "code",
   "execution_count": 11,
   "metadata": {},
   "outputs": [],
   "source": [
    "df.drop(['ID','Region','Diabetes_Type'], axis=1, inplace=True) "
   ]
  },
  {
   "cell_type": "markdown",
   "metadata": {},
   "source": [
    "---\n",
    "## 6. Save the Processed Data\n",
    "Save the dataset with engineered features."
   ]
  },
  {
   "cell_type": "code",
   "execution_count": 12,
   "metadata": {},
   "outputs": [],
   "source": [
    "save_location = '../data/feature_engineered_data/indian_youngsters_health_data.csv'\n",
    "os.makedirs(os.path.dirname(save_location), exist_ok=True)  # Ensure the directory exists\n",
    "df.to_csv(save_location, index=False)"
   ]
  }
 ],
 "metadata": {
  "kernelspec": {
   "display_name": "Python 3",
   "language": "python",
   "name": "python3"
  },
  "language_info": {
   "codemirror_mode": {
    "name": "ipython",
    "version": 3
   },
   "file_extension": ".py",
   "mimetype": "text/x-python",
   "name": "python",
   "nbconvert_exporter": "python",
   "pygments_lexer": "ipython3",
   "version": "3.12.8"
  }
 },
 "nbformat": 4,
 "nbformat_minor": 2
}
