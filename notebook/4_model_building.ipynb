{
 "cells": [
  {
   "cell_type": "markdown",
   "metadata": {},
   "source": [
    "# Model Building\n",
    "\n",
    "---\n",
    "\n",
    "1. Import packages\n",
    "2. Load data\n",
    "3. Modelling\n",
    "\n",
    "---\n",
    "\n",
    "## 1.) Import packages"
   ]
  },
  {
   "cell_type": "code",
   "execution_count": 56,
   "metadata": {},
   "outputs": [],
   "source": [
    "import warnings\n",
    "warnings.filterwarnings(\"ignore\")"
   ]
  },
  {
   "cell_type": "code",
   "execution_count": 57,
   "metadata": {},
   "outputs": [],
   "source": [
    "import pandas as pd\n",
    "import numpy as np\n",
    "import seaborn as sns\n",
    "import matplotlib.pyplot as plt\n",
    "\n",
    "# Shows plots in jupyter notebook\n",
    "# %matplotlib inline\n",
    "\n",
    "# Set plot style\n",
    "sns.set(color_codes=True)"
   ]
  },
  {
   "cell_type": "markdown",
   "metadata": {},
   "source": [
    "---\n",
    "## 2.) Load data"
   ]
  },
  {
   "cell_type": "code",
   "execution_count": 58,
   "metadata": {},
   "outputs": [],
   "source": [
    "df=pd.read_csv('../data/feature_engineered_data/indian_youngsters_health_data.csv')"
   ]
  },
  {
   "cell_type": "markdown",
   "metadata": {},
   "source": [
    "#### Show Top 5 Records"
   ]
  },
  {
   "cell_type": "code",
   "execution_count": 59,
   "metadata": {},
   "outputs": [
    {
     "data": {
      "text/html": [
       "<div>\n",
       "<style scoped>\n",
       "    .dataframe tbody tr th:only-of-type {\n",
       "        vertical-align: middle;\n",
       "    }\n",
       "\n",
       "    .dataframe tbody tr th {\n",
       "        vertical-align: top;\n",
       "    }\n",
       "\n",
       "    .dataframe thead th {\n",
       "        text-align: right;\n",
       "    }\n",
       "</style>\n",
       "<table border=\"1\" class=\"dataframe\">\n",
       "  <thead>\n",
       "    <tr style=\"text-align: right;\">\n",
       "      <th></th>\n",
       "      <th>Age</th>\n",
       "      <th>Gender</th>\n",
       "      <th>Family_Income</th>\n",
       "      <th>Family_History_Diabetes</th>\n",
       "      <th>Parent_Diabetes_Type</th>\n",
       "      <th>Genetic_Risk_Score</th>\n",
       "      <th>BMI</th>\n",
       "      <th>Physical_Activity_Level</th>\n",
       "      <th>Dietary_Habits</th>\n",
       "      <th>Fast_Food_Intake</th>\n",
       "      <th>...</th>\n",
       "      <th>Cholesterol_Level</th>\n",
       "      <th>Prediabetes</th>\n",
       "      <th>Sleep_Hours</th>\n",
       "      <th>Stress_Level</th>\n",
       "      <th>Screen_Time</th>\n",
       "      <th>BMI_Activity_Risk</th>\n",
       "      <th>Age_Group</th>\n",
       "      <th>Stress_Sleep_Ratio</th>\n",
       "      <th>Genetic_Family_Risk</th>\n",
       "      <th>Unhealthy_Behavior_Score</th>\n",
       "    </tr>\n",
       "  </thead>\n",
       "  <tbody>\n",
       "    <tr>\n",
       "      <th>0</th>\n",
       "      <td>21</td>\n",
       "      <td>Male</td>\n",
       "      <td>2209393</td>\n",
       "      <td>No</td>\n",
       "      <td>No Diabetes</td>\n",
       "      <td>6</td>\n",
       "      <td>31.4</td>\n",
       "      <td>Sedentary</td>\n",
       "      <td>Moderate</td>\n",
       "      <td>1</td>\n",
       "      <td>...</td>\n",
       "      <td>163.3</td>\n",
       "      <td>Yes</td>\n",
       "      <td>7.7</td>\n",
       "      <td>7</td>\n",
       "      <td>6.8</td>\n",
       "      <td>High Risk</td>\n",
       "      <td>Young Adult</td>\n",
       "      <td>0.804598</td>\n",
       "      <td>NoNoNoNoNoNo</td>\n",
       "      <td>YesNo</td>\n",
       "    </tr>\n",
       "    <tr>\n",
       "      <th>1</th>\n",
       "      <td>18</td>\n",
       "      <td>Female</td>\n",
       "      <td>387650</td>\n",
       "      <td>No</td>\n",
       "      <td>No Diabetes</td>\n",
       "      <td>5</td>\n",
       "      <td>24.4</td>\n",
       "      <td>Active</td>\n",
       "      <td>Unhealthy</td>\n",
       "      <td>5</td>\n",
       "      <td>...</td>\n",
       "      <td>169.1</td>\n",
       "      <td>Yes</td>\n",
       "      <td>7.9</td>\n",
       "      <td>8</td>\n",
       "      <td>6.0</td>\n",
       "      <td>Low Risk</td>\n",
       "      <td>Teen</td>\n",
       "      <td>0.898876</td>\n",
       "      <td>NoNoNoNoNo</td>\n",
       "      <td>NoNo</td>\n",
       "    </tr>\n",
       "    <tr>\n",
       "      <th>2</th>\n",
       "      <td>25</td>\n",
       "      <td>Male</td>\n",
       "      <td>383333</td>\n",
       "      <td>No</td>\n",
       "      <td>No Diabetes</td>\n",
       "      <td>6</td>\n",
       "      <td>20.0</td>\n",
       "      <td>Moderate</td>\n",
       "      <td>Moderate</td>\n",
       "      <td>2</td>\n",
       "      <td>...</td>\n",
       "      <td>296.3</td>\n",
       "      <td>Yes</td>\n",
       "      <td>7.6</td>\n",
       "      <td>8</td>\n",
       "      <td>4.6</td>\n",
       "      <td>Moderate Risk</td>\n",
       "      <td>Young Adult</td>\n",
       "      <td>0.930233</td>\n",
       "      <td>NoNoNoNoNoNo</td>\n",
       "      <td>NoNo</td>\n",
       "    </tr>\n",
       "    <tr>\n",
       "      <th>3</th>\n",
       "      <td>22</td>\n",
       "      <td>Male</td>\n",
       "      <td>2443733</td>\n",
       "      <td>No</td>\n",
       "      <td>No Diabetes</td>\n",
       "      <td>4</td>\n",
       "      <td>39.8</td>\n",
       "      <td>Moderate</td>\n",
       "      <td>Unhealthy</td>\n",
       "      <td>4</td>\n",
       "      <td>...</td>\n",
       "      <td>252.8</td>\n",
       "      <td>No</td>\n",
       "      <td>9.5</td>\n",
       "      <td>2</td>\n",
       "      <td>10.9</td>\n",
       "      <td>Moderate Risk</td>\n",
       "      <td>Young Adult</td>\n",
       "      <td>0.190476</td>\n",
       "      <td>NoNoNoNo</td>\n",
       "      <td>NoYes</td>\n",
       "    </tr>\n",
       "    <tr>\n",
       "      <th>4</th>\n",
       "      <td>19</td>\n",
       "      <td>Male</td>\n",
       "      <td>1449463</td>\n",
       "      <td>No</td>\n",
       "      <td>No Diabetes</td>\n",
       "      <td>4</td>\n",
       "      <td>19.2</td>\n",
       "      <td>Moderate</td>\n",
       "      <td>Moderate</td>\n",
       "      <td>0</td>\n",
       "      <td>...</td>\n",
       "      <td>252.3</td>\n",
       "      <td>No</td>\n",
       "      <td>6.4</td>\n",
       "      <td>2</td>\n",
       "      <td>1.3</td>\n",
       "      <td>Moderate Risk</td>\n",
       "      <td>Teen</td>\n",
       "      <td>0.270270</td>\n",
       "      <td>NoNoNoNo</td>\n",
       "      <td>NoYes</td>\n",
       "    </tr>\n",
       "  </tbody>\n",
       "</table>\n",
       "<p>5 rows × 24 columns</p>\n",
       "</div>"
      ],
      "text/plain": [
       "   Age  Gender  Family_Income Family_History_Diabetes Parent_Diabetes_Type  \\\n",
       "0   21    Male        2209393                      No          No Diabetes   \n",
       "1   18  Female         387650                      No          No Diabetes   \n",
       "2   25    Male         383333                      No          No Diabetes   \n",
       "3   22    Male        2443733                      No          No Diabetes   \n",
       "4   19    Male        1449463                      No          No Diabetes   \n",
       "\n",
       "   Genetic_Risk_Score   BMI Physical_Activity_Level Dietary_Habits  \\\n",
       "0                   6  31.4               Sedentary       Moderate   \n",
       "1                   5  24.4                  Active      Unhealthy   \n",
       "2                   6  20.0                Moderate       Moderate   \n",
       "3                   4  39.8                Moderate      Unhealthy   \n",
       "4                   4  19.2                Moderate       Moderate   \n",
       "\n",
       "   Fast_Food_Intake  ... Cholesterol_Level Prediabetes  Sleep_Hours  \\\n",
       "0                 1  ...             163.3         Yes          7.7   \n",
       "1                 5  ...             169.1         Yes          7.9   \n",
       "2                 2  ...             296.3         Yes          7.6   \n",
       "3                 4  ...             252.8          No          9.5   \n",
       "4                 0  ...             252.3          No          6.4   \n",
       "\n",
       "   Stress_Level  Screen_Time BMI_Activity_Risk    Age_Group  \\\n",
       "0             7          6.8         High Risk  Young Adult   \n",
       "1             8          6.0          Low Risk         Teen   \n",
       "2             8          4.6     Moderate Risk  Young Adult   \n",
       "3             2         10.9     Moderate Risk  Young Adult   \n",
       "4             2          1.3     Moderate Risk         Teen   \n",
       "\n",
       "   Stress_Sleep_Ratio  Genetic_Family_Risk Unhealthy_Behavior_Score  \n",
       "0            0.804598         NoNoNoNoNoNo                    YesNo  \n",
       "1            0.898876           NoNoNoNoNo                     NoNo  \n",
       "2            0.930233         NoNoNoNoNoNo                     NoNo  \n",
       "3            0.190476             NoNoNoNo                    NoYes  \n",
       "4            0.270270             NoNoNoNo                    NoYes  \n",
       "\n",
       "[5 rows x 24 columns]"
      ]
     },
     "execution_count": 59,
     "metadata": {},
     "output_type": "execute_result"
    }
   ],
   "source": [
    "df.head()"
   ]
  },
  {
   "cell_type": "markdown",
   "metadata": {},
   "source": [
    "---\n",
    "\n",
    "## 3.) Modelling\n",
    "\n",
    "We now have a dataset containing features that we have engineered and we are ready to start training a predictive model."
   ]
  },
  {
   "cell_type": "code",
   "execution_count": 60,
   "metadata": {},
   "outputs": [],
   "source": [
    "import pandas as pd\n",
    "import joblib\n",
    "from sklearn.model_selection import train_test_split\n",
    "from sklearn.preprocessing import OneHotEncoder, StandardScaler\n",
    "from sklearn.linear_model import LogisticRegression\n",
    "from sklearn.ensemble import RandomForestClassifier\n",
    "from sklearn.neighbors import KNeighborsClassifier\n",
    "from xgboost import XGBClassifier\n",
    "from sklearn.metrics import accuracy_score, classification_report, confusion_matrix"
   ]
  },
  {
   "cell_type": "markdown",
   "metadata": {},
   "source": [
    "### 3.1 Map target variable to binary."
   ]
  },
  {
   "cell_type": "code",
   "execution_count": 61,
   "metadata": {},
   "outputs": [],
   "source": [
    "df['Prediabetes'] = df['Prediabetes'].map({'Yes': 1, 'No': 0})"
   ]
  },
  {
   "cell_type": "markdown",
   "metadata": {},
   "source": [
    "### 3.2 Define features and target for the model."
   ]
  },
  {
   "cell_type": "code",
   "execution_count": 62,
   "metadata": {},
   "outputs": [],
   "source": [
    "features = [\n",
    "    'Age', 'Gender', 'Family_Income', 'Family_History_Diabetes', 'Parent_Diabetes_Type',\n",
    "    'Genetic_Risk_Score', 'BMI', 'Physical_Activity_Level', 'Dietary_Habits', 'Fast_Food_Intake',\n",
    "    'Fasting_Blood_Sugar', 'HbA1c', 'Cholesterol_Level', 'Sleep_Hours', 'Stress_Level',\n",
    "    'Screen_Time', 'BMI_Activity_Risk', 'Age_Group', 'Stress_Sleep_Ratio', 'Genetic_Family_Risk',\n",
    "    'Unhealthy_Behavior_Score'\n",
    "]\n",
    "X = df[features]\n",
    "y = df['Prediabetes']"
   ]
  },
  {
   "cell_type": "markdown",
   "metadata": {},
   "source": [
    "---\n",
    "## 4.) Train-test split."
   ]
  },
  {
   "cell_type": "code",
   "execution_count": 63,
   "metadata": {},
   "outputs": [],
   "source": [
    "X_train, X_test, y_train, y_test = train_test_split(X, y, test_size=0.2, random_state=42)"
   ]
  },
  {
   "cell_type": "markdown",
   "metadata": {},
   "source": [
    "---\n",
    "## 5.) Preprocessing"
   ]
  },
  {
   "cell_type": "code",
   "execution_count": 64,
   "metadata": {},
   "outputs": [],
   "source": [
    "categorical_cols = X.select_dtypes(include=['object']).columns\n",
    "numerical_cols = X.select_dtypes(include=['int64', 'float64']).columns"
   ]
  },
  {
   "cell_type": "markdown",
   "metadata": {},
   "source": [
    "### One-hot encode categorical features"
   ]
  },
  {
   "cell_type": "code",
   "execution_count": 65,
   "metadata": {},
   "outputs": [],
   "source": [
    "encoder = OneHotEncoder(drop='first', sparse_output=False)  # Use sparse_output instead of sparse\n",
    "X_train_encoded = encoder.fit_transform(X_train[categorical_cols])\n",
    "X_test_encoded = encoder.transform(X_test[categorical_cols])"
   ]
  },
  {
   "cell_type": "markdown",
   "metadata": {},
   "source": [
    "### Scale numerical features"
   ]
  },
  {
   "cell_type": "code",
   "execution_count": 66,
   "metadata": {},
   "outputs": [],
   "source": [
    "scaler = StandardScaler()\n",
    "X_train_scaled = scaler.fit_transform(X_train[numerical_cols])\n",
    "X_test_scaled = scaler.transform(X_test[numerical_cols])"
   ]
  },
  {
   "cell_type": "markdown",
   "metadata": {},
   "source": [
    "### Combine preprocessed features"
   ]
  },
  {
   "cell_type": "code",
   "execution_count": 67,
   "metadata": {},
   "outputs": [],
   "source": [
    "X_train_preprocessed = np.hstack((X_train_scaled, X_train_encoded))\n",
    "X_test_preprocessed = np.hstack((X_test_scaled, X_test_encoded))"
   ]
  },
  {
   "cell_type": "markdown",
   "metadata": {},
   "source": [
    "---\n",
    "## 6.) Evaluate Function to give all metrics after model Training"
   ]
  },
  {
   "cell_type": "code",
   "execution_count": 68,
   "metadata": {},
   "outputs": [
    {
     "name": "stdout",
     "output_type": "stream",
     "text": [
      "\n",
      "LogisticRegression Results:\n",
      "Accuracy: 0.6982\n",
      "Classification Report:\n",
      "               precision    recall  f1-score   support\n",
      "\n",
      "           0       0.70      1.00      0.82     13964\n",
      "           1       0.00      0.00      0.00      6036\n",
      "\n",
      "    accuracy                           0.70     20000\n",
      "   macro avg       0.35      0.50      0.41     20000\n",
      "weighted avg       0.49      0.70      0.57     20000\n",
      "\n",
      "Confusion Matrix:\n",
      " [[13964     0]\n",
      " [ 6036     0]]\n",
      "\n",
      "RandomForestClassifier Results:\n",
      "Accuracy: 0.6975\n",
      "Classification Report:\n",
      "               precision    recall  f1-score   support\n",
      "\n",
      "           0       0.70      1.00      0.82     13964\n",
      "           1       0.06      0.00      0.00      6036\n",
      "\n",
      "    accuracy                           0.70     20000\n",
      "   macro avg       0.38      0.50      0.41     20000\n",
      "weighted avg       0.51      0.70      0.57     20000\n",
      "\n",
      "Confusion Matrix:\n",
      " [[13949    15]\n",
      " [ 6035     1]]\n",
      "\n",
      "KNeighborsClassifier Results:\n",
      "Accuracy: 0.6275\n",
      "Classification Report:\n",
      "               precision    recall  f1-score   support\n",
      "\n",
      "           0       0.70      0.83      0.76     13964\n",
      "           1       0.29      0.17      0.21      6036\n",
      "\n",
      "    accuracy                           0.63     20000\n",
      "   macro avg       0.49      0.50      0.48     20000\n",
      "weighted avg       0.57      0.63      0.59     20000\n",
      "\n",
      "Confusion Matrix:\n",
      " [[11551  2413]\n",
      " [ 5037   999]]\n",
      "\n",
      "XGBClassifier Results:\n",
      "Accuracy: 0.6928\n",
      "Classification Report:\n",
      "               precision    recall  f1-score   support\n",
      "\n",
      "           0       0.70      0.98      0.82     13964\n",
      "           1       0.35      0.02      0.04      6036\n",
      "\n",
      "    accuracy                           0.69     20000\n",
      "   macro avg       0.52      0.50      0.43     20000\n",
      "weighted avg       0.59      0.69      0.58     20000\n",
      "\n",
      "Confusion Matrix:\n",
      " [[13735   229]\n",
      " [ 5914   122]]\n"
     ]
    }
   ],
   "source": [
    "# Models to compare\n",
    "models = {\n",
    "    'LogisticRegression': LogisticRegression(),\n",
    "    'RandomForestClassifier': RandomForestClassifier(random_state=42),\n",
    "    'KNeighborsClassifier': KNeighborsClassifier(),\n",
    "    'XGBClassifier': XGBClassifier(use_label_encoder=False, eval_metric='logloss', random_state=42)\n",
    "}\n",
    "\n",
    "# Dictionary to store trained models\n",
    "trained_models = {}\n",
    "\n",
    "# Train and evaluate models\n",
    "results = {}\n",
    "\n",
    "for name, model in models.items():\n",
    "    model.fit(X_train_preprocessed, y_train)\n",
    "    y_pred = model.predict(X_test_preprocessed)\n",
    "    \n",
    "    # Metrics\n",
    "    accuracy = accuracy_score(y_test, y_pred)\n",
    "    report = classification_report(y_test, y_pred)\n",
    "    conf_matrix = confusion_matrix(y_test, y_pred)\n",
    "   \n",
    "    results[name] = {\n",
    "        'accuracy': accuracy,\n",
    "        'classification_report': report,\n",
    "        'confusion_matrix': conf_matrix\n",
    "    }\n",
    "\n",
    "# Display results\n",
    "for name, metrics in results.items():\n",
    "    print(f\"\\n{name} Results:\")\n",
    "    print(f\"Accuracy: {metrics['accuracy']:.4f}\")\n",
    "    print(\"Classification Report:\\n\", metrics['classification_report'])\n",
    "    print(\"Confusion Matrix:\\n\", metrics['confusion_matrix'])"
   ]
  },
  {
   "cell_type": "markdown",
   "metadata": {},
   "source": [
    "# Saving the Model to a file"
   ]
  },
  {
   "cell_type": "code",
   "execution_count": 69,
   "metadata": {},
   "outputs": [],
   "source": [
    "for name, model in trained_models.items():\n",
    "    joblib.dump(model, f'{name}_model.pkl')"
   ]
  },
  {
   "cell_type": "markdown",
   "metadata": {},
   "source": [
    "---\n",
    " # Conclusion \n",
    "---"
   ]
  },
  {
   "cell_type": "markdown",
   "metadata": {},
   "source": [
    "Our diabetes prediction models achieved ~70% accuracy across all approaches ( Logistic Regression: 69.82%, XGBoost: 69.28%, Random Forest: 69.75% ,KNeighborsClassifier: 62.75%). Logistic Regression emerged as the best performer with more balanced predictions. Key predictors include BMI, HbA1c, Sleep Hours, Fast Food Intake, Physical Activity, Blood Sugar levels, Cholesterol, Family History Diabetes, Parent Diabetes Type, and Genetic Risk Score."
   ]
  }
 ],
 "metadata": {
  "kernelspec": {
   "display_name": "Python 3",
   "language": "python",
   "name": "python3"
  },
  "language_info": {
   "codemirror_mode": {
    "name": "ipython",
    "version": 3
   },
   "file_extension": ".py",
   "mimetype": "text/x-python",
   "name": "python",
   "nbconvert_exporter": "python",
   "pygments_lexer": "ipython3",
   "version": "3.12.8"
  }
 },
 "nbformat": 4,
 "nbformat_minor": 2
}
