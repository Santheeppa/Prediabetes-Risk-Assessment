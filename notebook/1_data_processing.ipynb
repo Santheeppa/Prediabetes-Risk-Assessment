{
 "cells": [
  {
   "cell_type": "markdown",
   "metadata": {},
   "source": [
    "# Prediabetes Risk Assessment\n",
    "---"
   ]
  },
  {
   "cell_type": "markdown",
   "metadata": {},
   "source": [
    "### Introduction\n",
    "---\n",
    "This project aims to assess the risk of prediabetes among Indian youngsters aged from 15-25 based on various health and lifestyle factors. The dataset contains information on age, gender, region, family income, family history of diabetes, genetic risk score, BMI, physical activity level, dietary habits, fast food intake, smoking status, alcohol consumption, fasting blood sugar, HbA1c, cholesterol level, sleep hours, stress level, and screen time.\n",
    "\n",
    "By analyzing this data, I aim to identify key factors that contribute to the risk of prediabetes and develop predictive models to assess individual risk levels. This can help in early detection and preventive measures to reduce the incidence of diabetes."
   ]
  },
  {
   "cell_type": "markdown",
   "metadata": {},
   "source": [
    "---\n",
    "## 1.) Import Required Packages\n",
    "\n",
    "####  Importing Pandas, Numpy, Matplotlib, Seaborn and Warings Library."
   ]
  },
  {
   "cell_type": "code",
   "execution_count": 13,
   "metadata": {},
   "outputs": [],
   "source": [
    "import numpy as np\n",
    "import pandas as pd\n",
    "import seaborn as sns\n",
    "import matplotlib.pyplot as plt \n",
    "import warnings\n",
    "import os\n",
    "warnings.filterwarnings('ignore')"
   ]
  },
  {
   "cell_type": "markdown",
   "metadata": {},
   "source": [
    "---\n",
    "## 2.) Data Collection\n",
    "- Dataset Source -https://www.kaggle.com/datasets/ankushpanday1/diabetes-in-youth-vs-adult-in-india\n",
    "- The data consists of 22 column and 100000 rows."
   ]
  },
  {
   "cell_type": "markdown",
   "metadata": {},
   "source": [
    "#### Import the CSV Data as Pandas DataFrame"
   ]
  },
  {
   "cell_type": "code",
   "execution_count": 14,
   "metadata": {},
   "outputs": [],
   "source": [
    "df=pd.read_csv('../data/raw_data/indian_youngsters_health_data.csv')"
   ]
  },
  {
   "cell_type": "markdown",
   "metadata": {},
   "source": [
    "#### Show Top 5 Records"
   ]
  },
  {
   "cell_type": "code",
   "execution_count": 15,
   "metadata": {},
   "outputs": [
    {
     "data": {
      "text/html": [
       "<div>\n",
       "<style scoped>\n",
       "    .dataframe tbody tr th:only-of-type {\n",
       "        vertical-align: middle;\n",
       "    }\n",
       "\n",
       "    .dataframe tbody tr th {\n",
       "        vertical-align: top;\n",
       "    }\n",
       "\n",
       "    .dataframe thead th {\n",
       "        text-align: right;\n",
       "    }\n",
       "</style>\n",
       "<table border=\"1\" class=\"dataframe\">\n",
       "  <thead>\n",
       "    <tr style=\"text-align: right;\">\n",
       "      <th></th>\n",
       "      <th>ID</th>\n",
       "      <th>Age</th>\n",
       "      <th>Gender</th>\n",
       "      <th>Region</th>\n",
       "      <th>Family_Income</th>\n",
       "      <th>Family_History_Diabetes</th>\n",
       "      <th>Parent_Diabetes_Type</th>\n",
       "      <th>Genetic_Risk_Score</th>\n",
       "      <th>BMI</th>\n",
       "      <th>Physical_Activity_Level</th>\n",
       "      <th>...</th>\n",
       "      <th>Smoking</th>\n",
       "      <th>Alcohol_Consumption</th>\n",
       "      <th>Fasting_Blood_Sugar</th>\n",
       "      <th>HbA1c</th>\n",
       "      <th>Cholesterol_Level</th>\n",
       "      <th>Prediabetes</th>\n",
       "      <th>Diabetes_Type</th>\n",
       "      <th>Sleep_Hours</th>\n",
       "      <th>Stress_Level</th>\n",
       "      <th>Screen_Time</th>\n",
       "    </tr>\n",
       "  </thead>\n",
       "  <tbody>\n",
       "    <tr>\n",
       "      <th>0</th>\n",
       "      <td>1</td>\n",
       "      <td>21</td>\n",
       "      <td>Male</td>\n",
       "      <td>North</td>\n",
       "      <td>2209393</td>\n",
       "      <td>No</td>\n",
       "      <td>NaN</td>\n",
       "      <td>6</td>\n",
       "      <td>31.4</td>\n",
       "      <td>Sedentary</td>\n",
       "      <td>...</td>\n",
       "      <td>Yes</td>\n",
       "      <td>No</td>\n",
       "      <td>95.6</td>\n",
       "      <td>9.5</td>\n",
       "      <td>163.3</td>\n",
       "      <td>Yes</td>\n",
       "      <td>NaN</td>\n",
       "      <td>7.7</td>\n",
       "      <td>7</td>\n",
       "      <td>6.8</td>\n",
       "    </tr>\n",
       "    <tr>\n",
       "      <th>1</th>\n",
       "      <td>2</td>\n",
       "      <td>18</td>\n",
       "      <td>Female</td>\n",
       "      <td>Central</td>\n",
       "      <td>387650</td>\n",
       "      <td>No</td>\n",
       "      <td>NaN</td>\n",
       "      <td>5</td>\n",
       "      <td>24.4</td>\n",
       "      <td>Active</td>\n",
       "      <td>...</td>\n",
       "      <td>No</td>\n",
       "      <td>No</td>\n",
       "      <td>164.9</td>\n",
       "      <td>5.0</td>\n",
       "      <td>169.1</td>\n",
       "      <td>Yes</td>\n",
       "      <td>NaN</td>\n",
       "      <td>7.9</td>\n",
       "      <td>8</td>\n",
       "      <td>6.0</td>\n",
       "    </tr>\n",
       "    <tr>\n",
       "      <th>2</th>\n",
       "      <td>3</td>\n",
       "      <td>25</td>\n",
       "      <td>Male</td>\n",
       "      <td>North</td>\n",
       "      <td>383333</td>\n",
       "      <td>No</td>\n",
       "      <td>NaN</td>\n",
       "      <td>6</td>\n",
       "      <td>20.0</td>\n",
       "      <td>Moderate</td>\n",
       "      <td>...</td>\n",
       "      <td>No</td>\n",
       "      <td>No</td>\n",
       "      <td>110.5</td>\n",
       "      <td>8.3</td>\n",
       "      <td>296.3</td>\n",
       "      <td>Yes</td>\n",
       "      <td>Type 1</td>\n",
       "      <td>7.6</td>\n",
       "      <td>8</td>\n",
       "      <td>4.6</td>\n",
       "    </tr>\n",
       "    <tr>\n",
       "      <th>3</th>\n",
       "      <td>4</td>\n",
       "      <td>22</td>\n",
       "      <td>Male</td>\n",
       "      <td>Northeast</td>\n",
       "      <td>2443733</td>\n",
       "      <td>No</td>\n",
       "      <td>NaN</td>\n",
       "      <td>4</td>\n",
       "      <td>39.8</td>\n",
       "      <td>Moderate</td>\n",
       "      <td>...</td>\n",
       "      <td>No</td>\n",
       "      <td>Yes</td>\n",
       "      <td>160.7</td>\n",
       "      <td>4.6</td>\n",
       "      <td>252.8</td>\n",
       "      <td>No</td>\n",
       "      <td>NaN</td>\n",
       "      <td>9.5</td>\n",
       "      <td>2</td>\n",
       "      <td>10.9</td>\n",
       "    </tr>\n",
       "    <tr>\n",
       "      <th>4</th>\n",
       "      <td>5</td>\n",
       "      <td>19</td>\n",
       "      <td>Male</td>\n",
       "      <td>Central</td>\n",
       "      <td>1449463</td>\n",
       "      <td>No</td>\n",
       "      <td>NaN</td>\n",
       "      <td>4</td>\n",
       "      <td>19.2</td>\n",
       "      <td>Moderate</td>\n",
       "      <td>...</td>\n",
       "      <td>No</td>\n",
       "      <td>Yes</td>\n",
       "      <td>73.7</td>\n",
       "      <td>5.3</td>\n",
       "      <td>252.3</td>\n",
       "      <td>No</td>\n",
       "      <td>NaN</td>\n",
       "      <td>6.4</td>\n",
       "      <td>2</td>\n",
       "      <td>1.3</td>\n",
       "    </tr>\n",
       "  </tbody>\n",
       "</table>\n",
       "<p>5 rows × 22 columns</p>\n",
       "</div>"
      ],
      "text/plain": [
       "   ID  Age  Gender     Region  Family_Income Family_History_Diabetes  \\\n",
       "0   1   21    Male      North        2209393                      No   \n",
       "1   2   18  Female    Central         387650                      No   \n",
       "2   3   25    Male      North         383333                      No   \n",
       "3   4   22    Male  Northeast        2443733                      No   \n",
       "4   5   19    Male    Central        1449463                      No   \n",
       "\n",
       "  Parent_Diabetes_Type  Genetic_Risk_Score   BMI Physical_Activity_Level  ...  \\\n",
       "0                  NaN                   6  31.4               Sedentary  ...   \n",
       "1                  NaN                   5  24.4                  Active  ...   \n",
       "2                  NaN                   6  20.0                Moderate  ...   \n",
       "3                  NaN                   4  39.8                Moderate  ...   \n",
       "4                  NaN                   4  19.2                Moderate  ...   \n",
       "\n",
       "  Smoking  Alcohol_Consumption Fasting_Blood_Sugar HbA1c  Cholesterol_Level  \\\n",
       "0     Yes                   No                95.6   9.5              163.3   \n",
       "1      No                   No               164.9   5.0              169.1   \n",
       "2      No                   No               110.5   8.3              296.3   \n",
       "3      No                  Yes               160.7   4.6              252.8   \n",
       "4      No                  Yes                73.7   5.3              252.3   \n",
       "\n",
       "   Prediabetes  Diabetes_Type Sleep_Hours Stress_Level  Screen_Time  \n",
       "0          Yes            NaN         7.7            7          6.8  \n",
       "1          Yes            NaN         7.9            8          6.0  \n",
       "2          Yes         Type 1         7.6            8          4.6  \n",
       "3           No            NaN         9.5            2         10.9  \n",
       "4           No            NaN         6.4            2          1.3  \n",
       "\n",
       "[5 rows x 22 columns]"
      ]
     },
     "execution_count": 15,
     "metadata": {},
     "output_type": "execute_result"
    }
   ],
   "source": [
    "df.head()"
   ]
  },
  {
   "cell_type": "markdown",
   "metadata": {},
   "source": [
    "#### Shape of the dataset"
   ]
  },
  {
   "cell_type": "code",
   "execution_count": 16,
   "metadata": {},
   "outputs": [
    {
     "data": {
      "text/plain": [
       "(100000, 22)"
      ]
     },
     "execution_count": 16,
     "metadata": {},
     "output_type": "execute_result"
    }
   ],
   "source": [
    "df.shape"
   ]
  },
  {
   "cell_type": "markdown",
   "metadata": {},
   "source": [
    "### 2.1 Dataset information"
   ]
  },
  {
   "cell_type": "markdown",
   "metadata": {},
   "source": [
    "- ID: Unique identifier for each record.\n",
    "- Age: Age of the individual (15-25 years).\n",
    "- Gender: Gender of the individual: Male, Female, or Other.\n",
    "- Region: Region in India where the individual resides.\n",
    "- Family_Income: Annual family income in INR.\n",
    "- Family History of Heart Disease: Indicates if there is a family history of diabetes: Yes or No.\n",
    "- Parent_Diabetes_Type: Indicates if parents have diabetes and its type: Type 1, Type 2, or None.\n",
    "- Genetic_Risk_Score: A numeric score (1-10) indicating genetic predisposition to diabetes.\n",
    "- BMI: Body Mass Index, a measure of body fat based on height and weight.\n",
    "- Physical_Activity_Level: Level of physical activity: Sedentary, Moderate, or Active.\n",
    "- Dietary_Habits: Dietary habits: Healthy, Unhealthy, or Mixed.\n",
    "- Fast_Food_Intake: Frequency of fast food intake: Rarely, Occasionally, or Frequently.\n",
    "- Smoking: Smoking status: Yes or No.\n",
    "- Alcohol_Consumption: consumption of alcohol: Yes or No.\n",
    "- Fasting_Blood_Sugar: Fasting blood sugar level in mg/dL.\n",
    "- HbA1c: Glycated hemoglobin level in %.\n",
    "- Cholesterol_Level: Cholesterol level in mg/dL.\n",
    "- Prediabetes: Indicates if the individual has prediabetes: Yes or No.\n",
    "- Diabetes_Type: Indicates the type of diabetes: Type 1, Type 2, or None.\n",
    "- Sleep_Hours: Average hours of sleep per night.\n",
    "- Stress_Level: A numeric score (1-10) indicating Level of stress.\n",
    "- Screen_Time: Average hours of screen time per day."
   ]
  },
  {
   "cell_type": "markdown",
   "metadata": {},
   "source": [
    "---\n",
    "## 3.) Data Checks to perform\n",
    "\n",
    "- Check Missing values\n",
    "- Check Duplicates\n",
    "- Check data type\n",
    "- Check the number of unique values of each column\n",
    "- Check statistics of data set"
   ]
  },
  {
   "cell_type": "markdown",
   "metadata": {},
   "source": [
    "### 3.1 Check Missing values"
   ]
  },
  {
   "cell_type": "code",
   "execution_count": 17,
   "metadata": {},
   "outputs": [
    {
     "data": {
      "text/plain": [
       "ID                             0\n",
       "Age                            0\n",
       "Gender                         0\n",
       "Region                         0\n",
       "Family_Income                  0\n",
       "Family_History_Diabetes        0\n",
       "Parent_Diabetes_Type       65097\n",
       "Genetic_Risk_Score             0\n",
       "BMI                            0\n",
       "Physical_Activity_Level        0\n",
       "Dietary_Habits                 0\n",
       "Fast_Food_Intake               0\n",
       "Smoking                        0\n",
       "Alcohol_Consumption            0\n",
       "Fasting_Blood_Sugar            0\n",
       "HbA1c                          0\n",
       "Cholesterol_Level              0\n",
       "Prediabetes                    0\n",
       "Diabetes_Type              74776\n",
       "Sleep_Hours                    0\n",
       "Stress_Level                   0\n",
       "Screen_Time                    0\n",
       "dtype: int64"
      ]
     },
     "execution_count": 17,
     "metadata": {},
     "output_type": "execute_result"
    }
   ],
   "source": [
    "df.isna().sum()"
   ]
  },
  {
   "cell_type": "markdown",
   "metadata": {},
   "source": [
    "### Missing Values are Found So Handling The Missing Values"
   ]
  },
  {
   "cell_type": "code",
   "execution_count": 18,
   "metadata": {},
   "outputs": [],
   "source": [
    "df['Parent_Diabetes_Type'].fillna('No Diabetes',inplace=True)\n",
    "df['Diabetes_Type'].fillna('No Diabetes',inplace=True)"
   ]
  },
  {
   "cell_type": "markdown",
   "metadata": {},
   "source": [
    "### Ensure No More Missing values"
   ]
  },
  {
   "cell_type": "code",
   "execution_count": 19,
   "metadata": {},
   "outputs": [
    {
     "data": {
      "text/plain": [
       "ID                         0\n",
       "Age                        0\n",
       "Gender                     0\n",
       "Region                     0\n",
       "Family_Income              0\n",
       "Family_History_Diabetes    0\n",
       "Parent_Diabetes_Type       0\n",
       "Genetic_Risk_Score         0\n",
       "BMI                        0\n",
       "Physical_Activity_Level    0\n",
       "Dietary_Habits             0\n",
       "Fast_Food_Intake           0\n",
       "Smoking                    0\n",
       "Alcohol_Consumption        0\n",
       "Fasting_Blood_Sugar        0\n",
       "HbA1c                      0\n",
       "Cholesterol_Level          0\n",
       "Prediabetes                0\n",
       "Diabetes_Type              0\n",
       "Sleep_Hours                0\n",
       "Stress_Level               0\n",
       "Screen_Time                0\n",
       "dtype: int64"
      ]
     },
     "execution_count": 19,
     "metadata": {},
     "output_type": "execute_result"
    }
   ],
   "source": [
    "df.isna().sum()"
   ]
  },
  {
   "cell_type": "markdown",
   "metadata": {},
   "source": [
    "#### There are no missing values in the data set"
   ]
  },
  {
   "cell_type": "markdown",
   "metadata": {},
   "source": [
    "### 3.2 Check Duplicates"
   ]
  },
  {
   "cell_type": "code",
   "execution_count": 20,
   "metadata": {},
   "outputs": [
    {
     "data": {
      "text/plain": [
       "0"
      ]
     },
     "execution_count": 20,
     "metadata": {},
     "output_type": "execute_result"
    }
   ],
   "source": [
    "df.duplicated().sum()"
   ]
  },
  {
   "cell_type": "markdown",
   "metadata": {},
   "source": [
    "#### There are no duplicates  values in the data set"
   ]
  },
  {
   "cell_type": "markdown",
   "metadata": {},
   "source": [
    "### 3.3 Check data types"
   ]
  },
  {
   "cell_type": "code",
   "execution_count": 21,
   "metadata": {},
   "outputs": [
    {
     "name": "stdout",
     "output_type": "stream",
     "text": [
      "<class 'pandas.core.frame.DataFrame'>\n",
      "RangeIndex: 100000 entries, 0 to 99999\n",
      "Data columns (total 22 columns):\n",
      " #   Column                   Non-Null Count   Dtype  \n",
      "---  ------                   --------------   -----  \n",
      " 0   ID                       100000 non-null  int64  \n",
      " 1   Age                      100000 non-null  int64  \n",
      " 2   Gender                   100000 non-null  object \n",
      " 3   Region                   100000 non-null  object \n",
      " 4   Family_Income            100000 non-null  int64  \n",
      " 5   Family_History_Diabetes  100000 non-null  object \n",
      " 6   Parent_Diabetes_Type     100000 non-null  object \n",
      " 7   Genetic_Risk_Score       100000 non-null  int64  \n",
      " 8   BMI                      100000 non-null  float64\n",
      " 9   Physical_Activity_Level  100000 non-null  object \n",
      " 10  Dietary_Habits           100000 non-null  object \n",
      " 11  Fast_Food_Intake         100000 non-null  int64  \n",
      " 12  Smoking                  100000 non-null  object \n",
      " 13  Alcohol_Consumption      100000 non-null  object \n",
      " 14  Fasting_Blood_Sugar      100000 non-null  float64\n",
      " 15  HbA1c                    100000 non-null  float64\n",
      " 16  Cholesterol_Level        100000 non-null  float64\n",
      " 17  Prediabetes              100000 non-null  object \n",
      " 18  Diabetes_Type            100000 non-null  object \n",
      " 19  Sleep_Hours              100000 non-null  float64\n",
      " 20  Stress_Level             100000 non-null  int64  \n",
      " 21  Screen_Time              100000 non-null  float64\n",
      "dtypes: float64(6), int64(6), object(10)\n",
      "memory usage: 16.8+ MB\n"
     ]
    }
   ],
   "source": [
    "# Check Null and Dtypes\n",
    "df.info()"
   ]
  },
  {
   "cell_type": "markdown",
   "metadata": {},
   "source": [
    "### 3.4 Checking the number of unique values of each column"
   ]
  },
  {
   "cell_type": "code",
   "execution_count": 22,
   "metadata": {},
   "outputs": [
    {
     "data": {
      "text/plain": [
       "ID                         100000\n",
       "Age                            11\n",
       "Gender                          3\n",
       "Region                          6\n",
       "Family_Income               98018\n",
       "Family_History_Diabetes         2\n",
       "Parent_Diabetes_Type            3\n",
       "Genetic_Risk_Score             10\n",
       "BMI                           241\n",
       "Physical_Activity_Level         3\n",
       "Dietary_Habits                  3\n",
       "Fast_Food_Intake               11\n",
       "Smoking                         2\n",
       "Alcohol_Consumption             2\n",
       "Fasting_Blood_Sugar          1101\n",
       "HbA1c                          61\n",
       "Cholesterol_Level            1801\n",
       "Prediabetes                     2\n",
       "Diabetes_Type                   3\n",
       "Sleep_Hours                    61\n",
       "Stress_Level                   10\n",
       "Screen_Time                   111\n",
       "dtype: int64"
      ]
     },
     "execution_count": 22,
     "metadata": {},
     "output_type": "execute_result"
    }
   ],
   "source": [
    "df.nunique()"
   ]
  },
  {
   "cell_type": "markdown",
   "metadata": {},
   "source": [
    "### 3.5 Check statistics of data set"
   ]
  },
  {
   "cell_type": "code",
   "execution_count": 23,
   "metadata": {},
   "outputs": [
    {
     "data": {
      "text/html": [
       "<div>\n",
       "<style scoped>\n",
       "    .dataframe tbody tr th:only-of-type {\n",
       "        vertical-align: middle;\n",
       "    }\n",
       "\n",
       "    .dataframe tbody tr th {\n",
       "        vertical-align: top;\n",
       "    }\n",
       "\n",
       "    .dataframe thead th {\n",
       "        text-align: right;\n",
       "    }\n",
       "</style>\n",
       "<table border=\"1\" class=\"dataframe\">\n",
       "  <thead>\n",
       "    <tr style=\"text-align: right;\">\n",
       "      <th></th>\n",
       "      <th>ID</th>\n",
       "      <th>Age</th>\n",
       "      <th>Family_Income</th>\n",
       "      <th>Genetic_Risk_Score</th>\n",
       "      <th>BMI</th>\n",
       "      <th>Fast_Food_Intake</th>\n",
       "      <th>Fasting_Blood_Sugar</th>\n",
       "      <th>HbA1c</th>\n",
       "      <th>Cholesterol_Level</th>\n",
       "      <th>Sleep_Hours</th>\n",
       "      <th>Stress_Level</th>\n",
       "      <th>Screen_Time</th>\n",
       "    </tr>\n",
       "  </thead>\n",
       "  <tbody>\n",
       "    <tr>\n",
       "      <th>count</th>\n",
       "      <td>100000.000000</td>\n",
       "      <td>100000.000000</td>\n",
       "      <td>1.000000e+05</td>\n",
       "      <td>100000.000000</td>\n",
       "      <td>100000.000000</td>\n",
       "      <td>100000.000000</td>\n",
       "      <td>100000.000000</td>\n",
       "      <td>100000.000000</td>\n",
       "      <td>100000.000000</td>\n",
       "      <td>100000.000000</td>\n",
       "      <td>100000.00000</td>\n",
       "      <td>100000.000000</td>\n",
       "    </tr>\n",
       "    <tr>\n",
       "      <th>mean</th>\n",
       "      <td>50000.500000</td>\n",
       "      <td>20.007890</td>\n",
       "      <td>1.299440e+06</td>\n",
       "      <td>5.505340</td>\n",
       "      <td>28.028089</td>\n",
       "      <td>4.988580</td>\n",
       "      <td>125.072216</td>\n",
       "      <td>7.006461</td>\n",
       "      <td>209.903952</td>\n",
       "      <td>6.988082</td>\n",
       "      <td>5.50681</td>\n",
       "      <td>6.503842</td>\n",
       "    </tr>\n",
       "    <tr>\n",
       "      <th>std</th>\n",
       "      <td>28867.657797</td>\n",
       "      <td>3.154934</td>\n",
       "      <td>6.919403e+05</td>\n",
       "      <td>2.872218</td>\n",
       "      <td>6.924196</td>\n",
       "      <td>3.169762</td>\n",
       "      <td>31.788613</td>\n",
       "      <td>1.735327</td>\n",
       "      <td>52.049374</td>\n",
       "      <td>1.734122</td>\n",
       "      <td>2.87943</td>\n",
       "      <td>3.170210</td>\n",
       "    </tr>\n",
       "    <tr>\n",
       "      <th>min</th>\n",
       "      <td>1.000000</td>\n",
       "      <td>15.000000</td>\n",
       "      <td>1.000040e+05</td>\n",
       "      <td>1.000000</td>\n",
       "      <td>16.000000</td>\n",
       "      <td>0.000000</td>\n",
       "      <td>70.000000</td>\n",
       "      <td>4.000000</td>\n",
       "      <td>120.000000</td>\n",
       "      <td>4.000000</td>\n",
       "      <td>1.00000</td>\n",
       "      <td>1.000000</td>\n",
       "    </tr>\n",
       "    <tr>\n",
       "      <th>25%</th>\n",
       "      <td>25000.750000</td>\n",
       "      <td>17.000000</td>\n",
       "      <td>7.022028e+05</td>\n",
       "      <td>3.000000</td>\n",
       "      <td>22.100000</td>\n",
       "      <td>2.000000</td>\n",
       "      <td>97.600000</td>\n",
       "      <td>5.500000</td>\n",
       "      <td>164.800000</td>\n",
       "      <td>5.500000</td>\n",
       "      <td>3.00000</td>\n",
       "      <td>3.800000</td>\n",
       "    </tr>\n",
       "    <tr>\n",
       "      <th>50%</th>\n",
       "      <td>50000.500000</td>\n",
       "      <td>20.000000</td>\n",
       "      <td>1.299990e+06</td>\n",
       "      <td>6.000000</td>\n",
       "      <td>28.000000</td>\n",
       "      <td>5.000000</td>\n",
       "      <td>125.200000</td>\n",
       "      <td>7.000000</td>\n",
       "      <td>209.800000</td>\n",
       "      <td>7.000000</td>\n",
       "      <td>6.00000</td>\n",
       "      <td>6.500000</td>\n",
       "    </tr>\n",
       "    <tr>\n",
       "      <th>75%</th>\n",
       "      <td>75000.250000</td>\n",
       "      <td>23.000000</td>\n",
       "      <td>1.898916e+06</td>\n",
       "      <td>8.000000</td>\n",
       "      <td>34.000000</td>\n",
       "      <td>8.000000</td>\n",
       "      <td>152.600000</td>\n",
       "      <td>8.500000</td>\n",
       "      <td>255.000000</td>\n",
       "      <td>8.500000</td>\n",
       "      <td>8.00000</td>\n",
       "      <td>9.300000</td>\n",
       "    </tr>\n",
       "    <tr>\n",
       "      <th>max</th>\n",
       "      <td>100000.000000</td>\n",
       "      <td>25.000000</td>\n",
       "      <td>2.499974e+06</td>\n",
       "      <td>10.000000</td>\n",
       "      <td>40.000000</td>\n",
       "      <td>10.000000</td>\n",
       "      <td>180.000000</td>\n",
       "      <td>10.000000</td>\n",
       "      <td>300.000000</td>\n",
       "      <td>10.000000</td>\n",
       "      <td>10.00000</td>\n",
       "      <td>12.000000</td>\n",
       "    </tr>\n",
       "  </tbody>\n",
       "</table>\n",
       "</div>"
      ],
      "text/plain": [
       "                  ID            Age  Family_Income  Genetic_Risk_Score  \\\n",
       "count  100000.000000  100000.000000   1.000000e+05       100000.000000   \n",
       "mean    50000.500000      20.007890   1.299440e+06            5.505340   \n",
       "std     28867.657797       3.154934   6.919403e+05            2.872218   \n",
       "min         1.000000      15.000000   1.000040e+05            1.000000   \n",
       "25%     25000.750000      17.000000   7.022028e+05            3.000000   \n",
       "50%     50000.500000      20.000000   1.299990e+06            6.000000   \n",
       "75%     75000.250000      23.000000   1.898916e+06            8.000000   \n",
       "max    100000.000000      25.000000   2.499974e+06           10.000000   \n",
       "\n",
       "                 BMI  Fast_Food_Intake  Fasting_Blood_Sugar          HbA1c  \\\n",
       "count  100000.000000     100000.000000        100000.000000  100000.000000   \n",
       "mean       28.028089          4.988580           125.072216       7.006461   \n",
       "std         6.924196          3.169762            31.788613       1.735327   \n",
       "min        16.000000          0.000000            70.000000       4.000000   \n",
       "25%        22.100000          2.000000            97.600000       5.500000   \n",
       "50%        28.000000          5.000000           125.200000       7.000000   \n",
       "75%        34.000000          8.000000           152.600000       8.500000   \n",
       "max        40.000000         10.000000           180.000000      10.000000   \n",
       "\n",
       "       Cholesterol_Level    Sleep_Hours  Stress_Level    Screen_Time  \n",
       "count      100000.000000  100000.000000  100000.00000  100000.000000  \n",
       "mean          209.903952       6.988082       5.50681       6.503842  \n",
       "std            52.049374       1.734122       2.87943       3.170210  \n",
       "min           120.000000       4.000000       1.00000       1.000000  \n",
       "25%           164.800000       5.500000       3.00000       3.800000  \n",
       "50%           209.800000       7.000000       6.00000       6.500000  \n",
       "75%           255.000000       8.500000       8.00000       9.300000  \n",
       "max           300.000000      10.000000      10.00000      12.000000  "
      ]
     },
     "execution_count": 23,
     "metadata": {},
     "output_type": "execute_result"
    }
   ],
   "source": [
    "df.describe()"
   ]
  },
  {
   "cell_type": "markdown",
   "metadata": {},
   "source": [
    "---\n",
    "## 4.) Saving the Processed data"
   ]
  },
  {
   "cell_type": "code",
   "execution_count": 12,
   "metadata": {},
   "outputs": [],
   "source": [
    "save_location = '../data/processed_data/indian_youngsters_health_data.csv'\n",
    "os.makedirs(os.path.dirname(save_location), exist_ok=True)  # Ensure the directory exists\n",
    "df.to_csv(save_location, index=False)"
   ]
  }
 ],
 "metadata": {
  "kernelspec": {
   "display_name": "Python 3",
   "language": "python",
   "name": "python3"
  },
  "language_info": {
   "codemirror_mode": {
    "name": "ipython",
    "version": 3
   },
   "file_extension": ".py",
   "mimetype": "text/x-python",
   "name": "python",
   "nbconvert_exporter": "python",
   "pygments_lexer": "ipython3",
   "version": "3.12.8"
  }
 },
 "nbformat": 4,
 "nbformat_minor": 2
}
