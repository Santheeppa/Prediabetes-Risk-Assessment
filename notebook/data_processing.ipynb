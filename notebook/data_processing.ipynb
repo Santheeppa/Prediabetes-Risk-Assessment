{
 "cells": [
  {
   "cell_type": "markdown",
   "metadata": {},
   "source": [
    "### 1.) Import Data and Required Packages\n",
    "####  Importing Pandas, Numpy, Matplotlib, Seaborn and Warings Library."
   ]
  },
  {
   "cell_type": "code",
   "execution_count": 14,
   "metadata": {},
   "outputs": [],
   "source": [
    "import numpy as np\n",
    "import pandas as pd\n",
    "import seaborn as sns\n",
    "import matplotlib.pyplot as plt \n",
    "%matplotlib inline\n",
    "import warnings\n",
    "warnings.filterwarnings('ignore')"
   ]
  },
  {
   "cell_type": "markdown",
   "metadata": {},
   "source": [
    "#### Import the CSV Data as Pandas DataFrame"
   ]
  },
  {
   "cell_type": "code",
   "execution_count": 4,
   "metadata": {},
   "outputs": [],
   "source": [
    "df=pd.read_csv('../data/indian_youngsters_health_data.csv')"
   ]
  },
  {
   "cell_type": "markdown",
   "metadata": {},
   "source": [
    "#### Show Top 5 Records"
   ]
  },
  {
   "cell_type": "code",
   "execution_count": 5,
   "metadata": {},
   "outputs": [
    {
     "data": {
      "text/html": [
       "<div>\n",
       "<style scoped>\n",
       "    .dataframe tbody tr th:only-of-type {\n",
       "        vertical-align: middle;\n",
       "    }\n",
       "\n",
       "    .dataframe tbody tr th {\n",
       "        vertical-align: top;\n",
       "    }\n",
       "\n",
       "    .dataframe thead th {\n",
       "        text-align: right;\n",
       "    }\n",
       "</style>\n",
       "<table border=\"1\" class=\"dataframe\">\n",
       "  <thead>\n",
       "    <tr style=\"text-align: right;\">\n",
       "      <th></th>\n",
       "      <th>ID</th>\n",
       "      <th>Age</th>\n",
       "      <th>Gender</th>\n",
       "      <th>Region</th>\n",
       "      <th>Family_Income</th>\n",
       "      <th>Family_History_Diabetes</th>\n",
       "      <th>Parent_Diabetes_Type</th>\n",
       "      <th>Genetic_Risk_Score</th>\n",
       "      <th>BMI</th>\n",
       "      <th>Physical_Activity_Level</th>\n",
       "      <th>...</th>\n",
       "      <th>Smoking</th>\n",
       "      <th>Alcohol_Consumption</th>\n",
       "      <th>Fasting_Blood_Sugar</th>\n",
       "      <th>HbA1c</th>\n",
       "      <th>Cholesterol_Level</th>\n",
       "      <th>Prediabetes</th>\n",
       "      <th>Diabetes_Type</th>\n",
       "      <th>Sleep_Hours</th>\n",
       "      <th>Stress_Level</th>\n",
       "      <th>Screen_Time</th>\n",
       "    </tr>\n",
       "  </thead>\n",
       "  <tbody>\n",
       "    <tr>\n",
       "      <th>0</th>\n",
       "      <td>1</td>\n",
       "      <td>21</td>\n",
       "      <td>Male</td>\n",
       "      <td>North</td>\n",
       "      <td>2209393</td>\n",
       "      <td>No</td>\n",
       "      <td>NaN</td>\n",
       "      <td>6</td>\n",
       "      <td>31.4</td>\n",
       "      <td>Sedentary</td>\n",
       "      <td>...</td>\n",
       "      <td>Yes</td>\n",
       "      <td>No</td>\n",
       "      <td>95.6</td>\n",
       "      <td>9.5</td>\n",
       "      <td>163.3</td>\n",
       "      <td>Yes</td>\n",
       "      <td>NaN</td>\n",
       "      <td>7.7</td>\n",
       "      <td>7</td>\n",
       "      <td>6.8</td>\n",
       "    </tr>\n",
       "    <tr>\n",
       "      <th>1</th>\n",
       "      <td>2</td>\n",
       "      <td>18</td>\n",
       "      <td>Female</td>\n",
       "      <td>Central</td>\n",
       "      <td>387650</td>\n",
       "      <td>No</td>\n",
       "      <td>NaN</td>\n",
       "      <td>5</td>\n",
       "      <td>24.4</td>\n",
       "      <td>Active</td>\n",
       "      <td>...</td>\n",
       "      <td>No</td>\n",
       "      <td>No</td>\n",
       "      <td>164.9</td>\n",
       "      <td>5.0</td>\n",
       "      <td>169.1</td>\n",
       "      <td>Yes</td>\n",
       "      <td>NaN</td>\n",
       "      <td>7.9</td>\n",
       "      <td>8</td>\n",
       "      <td>6.0</td>\n",
       "    </tr>\n",
       "    <tr>\n",
       "      <th>2</th>\n",
       "      <td>3</td>\n",
       "      <td>25</td>\n",
       "      <td>Male</td>\n",
       "      <td>North</td>\n",
       "      <td>383333</td>\n",
       "      <td>No</td>\n",
       "      <td>NaN</td>\n",
       "      <td>6</td>\n",
       "      <td>20.0</td>\n",
       "      <td>Moderate</td>\n",
       "      <td>...</td>\n",
       "      <td>No</td>\n",
       "      <td>No</td>\n",
       "      <td>110.5</td>\n",
       "      <td>8.3</td>\n",
       "      <td>296.3</td>\n",
       "      <td>Yes</td>\n",
       "      <td>Type 1</td>\n",
       "      <td>7.6</td>\n",
       "      <td>8</td>\n",
       "      <td>4.6</td>\n",
       "    </tr>\n",
       "    <tr>\n",
       "      <th>3</th>\n",
       "      <td>4</td>\n",
       "      <td>22</td>\n",
       "      <td>Male</td>\n",
       "      <td>Northeast</td>\n",
       "      <td>2443733</td>\n",
       "      <td>No</td>\n",
       "      <td>NaN</td>\n",
       "      <td>4</td>\n",
       "      <td>39.8</td>\n",
       "      <td>Moderate</td>\n",
       "      <td>...</td>\n",
       "      <td>No</td>\n",
       "      <td>Yes</td>\n",
       "      <td>160.7</td>\n",
       "      <td>4.6</td>\n",
       "      <td>252.8</td>\n",
       "      <td>No</td>\n",
       "      <td>NaN</td>\n",
       "      <td>9.5</td>\n",
       "      <td>2</td>\n",
       "      <td>10.9</td>\n",
       "    </tr>\n",
       "    <tr>\n",
       "      <th>4</th>\n",
       "      <td>5</td>\n",
       "      <td>19</td>\n",
       "      <td>Male</td>\n",
       "      <td>Central</td>\n",
       "      <td>1449463</td>\n",
       "      <td>No</td>\n",
       "      <td>NaN</td>\n",
       "      <td>4</td>\n",
       "      <td>19.2</td>\n",
       "      <td>Moderate</td>\n",
       "      <td>...</td>\n",
       "      <td>No</td>\n",
       "      <td>Yes</td>\n",
       "      <td>73.7</td>\n",
       "      <td>5.3</td>\n",
       "      <td>252.3</td>\n",
       "      <td>No</td>\n",
       "      <td>NaN</td>\n",
       "      <td>6.4</td>\n",
       "      <td>2</td>\n",
       "      <td>1.3</td>\n",
       "    </tr>\n",
       "  </tbody>\n",
       "</table>\n",
       "<p>5 rows × 22 columns</p>\n",
       "</div>"
      ],
      "text/plain": [
       "   ID  Age  Gender     Region  Family_Income Family_History_Diabetes  \\\n",
       "0   1   21    Male      North        2209393                      No   \n",
       "1   2   18  Female    Central         387650                      No   \n",
       "2   3   25    Male      North         383333                      No   \n",
       "3   4   22    Male  Northeast        2443733                      No   \n",
       "4   5   19    Male    Central        1449463                      No   \n",
       "\n",
       "  Parent_Diabetes_Type  Genetic_Risk_Score   BMI Physical_Activity_Level  ...  \\\n",
       "0                  NaN                   6  31.4               Sedentary  ...   \n",
       "1                  NaN                   5  24.4                  Active  ...   \n",
       "2                  NaN                   6  20.0                Moderate  ...   \n",
       "3                  NaN                   4  39.8                Moderate  ...   \n",
       "4                  NaN                   4  19.2                Moderate  ...   \n",
       "\n",
       "  Smoking  Alcohol_Consumption Fasting_Blood_Sugar HbA1c  Cholesterol_Level  \\\n",
       "0     Yes                   No                95.6   9.5              163.3   \n",
       "1      No                   No               164.9   5.0              169.1   \n",
       "2      No                   No               110.5   8.3              296.3   \n",
       "3      No                  Yes               160.7   4.6              252.8   \n",
       "4      No                  Yes                73.7   5.3              252.3   \n",
       "\n",
       "   Prediabetes  Diabetes_Type Sleep_Hours Stress_Level  Screen_Time  \n",
       "0          Yes            NaN         7.7            7          6.8  \n",
       "1          Yes            NaN         7.9            8          6.0  \n",
       "2          Yes         Type 1         7.6            8          4.6  \n",
       "3           No            NaN         9.5            2         10.9  \n",
       "4           No            NaN         6.4            2          1.3  \n",
       "\n",
       "[5 rows x 22 columns]"
      ]
     },
     "execution_count": 5,
     "metadata": {},
     "output_type": "execute_result"
    }
   ],
   "source": [
    "df.head()"
   ]
  },
  {
   "cell_type": "markdown",
   "metadata": {},
   "source": [
    "#### Shape of the dataset"
   ]
  },
  {
   "cell_type": "code",
   "execution_count": 6,
   "metadata": {},
   "outputs": [
    {
     "data": {
      "text/plain": [
       "(100000, 22)"
      ]
     },
     "execution_count": 6,
     "metadata": {},
     "output_type": "execute_result"
    }
   ],
   "source": [
    "df.shape"
   ]
  },
  {
   "cell_type": "markdown",
   "metadata": {},
   "source": [
    "### 2.) Dataset information"
   ]
  },
  {
   "cell_type": "markdown",
   "metadata": {},
   "source": [
    "- ID: Unique identifier for each record.\n",
    "- Age: Age of the individual (15-25 years).\n",
    "- Gender: Gender of the individual: Male, Female, or Other.\n",
    "- Region: Region in India where the individual resides.\n",
    "- Family_Income: Annual family income in INR.\n",
    "- Family History of Heart Disease: Indicates if there is a family history of diabetes: Yes or No.\n",
    "- Parent_Diabetes_Type: Indicates if parents have diabetes and its type: Type 1, Type 2, or None.\n",
    "- Genetic_Risk_Score: A numeric score (1-10) indicating genetic predisposition to diabetes.\n",
    "- BMI: Body Mass Index, a measure of body fat based on height and weight.\n",
    "- Physical_Activity_Level: Level of physical activity: Sedentary, Moderate, or Active.\n",
    "- Dietary_Habits: Dietary habits: Healthy, Unhealthy, or Mixed.\n",
    "- Fast_Food_Intake: Frequency of fast food intake: Rarely, Occasionally, or Frequently.\n",
    "- Smoking: Smoking status: Yes or No.\n",
    "- Alcohol_Consumption: consumption of alcohol: Yes or No.\n",
    "- Fasting_Blood_Sugar: Fasting blood sugar level in mg/dL.\n",
    "- HbA1c: Glycated hemoglobin level in %.\n",
    "- Cholesterol_Level: Cholesterol level in mg/dL.\n",
    "- Prediabetes: Indicates if the individual has prediabetes: Yes or No.\n",
    "- Diabetes_Type: Indicates the type of diabetes: Type 1, Type 2, or None.\n",
    "- Sleep_Hours: Average hours of sleep per night.\n",
    "- Stress_Level: A numeric score (1-10) indicating Level of stress.\n",
    "- Screen_Time: Average hours of screen time per day."
   ]
  },
  {
   "cell_type": "code",
   "execution_count": 7,
   "metadata": {},
   "outputs": [
    {
     "data": {
      "text/plain": [
       "ID                             0\n",
       "Age                            0\n",
       "Gender                         0\n",
       "Region                         0\n",
       "Family_Income                  0\n",
       "Family_History_Diabetes        0\n",
       "Parent_Diabetes_Type       65097\n",
       "Genetic_Risk_Score             0\n",
       "BMI                            0\n",
       "Physical_Activity_Level        0\n",
       "Dietary_Habits                 0\n",
       "Fast_Food_Intake               0\n",
       "Smoking                        0\n",
       "Alcohol_Consumption            0\n",
       "Fasting_Blood_Sugar            0\n",
       "HbA1c                          0\n",
       "Cholesterol_Level              0\n",
       "Prediabetes                    0\n",
       "Diabetes_Type              74776\n",
       "Sleep_Hours                    0\n",
       "Stress_Level                   0\n",
       "Screen_Time                    0\n",
       "dtype: int64"
      ]
     },
     "execution_count": 7,
     "metadata": {},
     "output_type": "execute_result"
    }
   ],
   "source": [
    "df.isna().sum()"
   ]
  },
  {
   "cell_type": "code",
   "execution_count": 8,
   "metadata": {},
   "outputs": [
    {
     "data": {
      "text/plain": [
       "0"
      ]
     },
     "execution_count": 8,
     "metadata": {},
     "output_type": "execute_result"
    }
   ],
   "source": [
    "df.duplicated().sum()"
   ]
  },
  {
   "cell_type": "code",
   "execution_count": 9,
   "metadata": {},
   "outputs": [
    {
     "name": "stdout",
     "output_type": "stream",
     "text": [
      "<class 'pandas.core.frame.DataFrame'>\n",
      "RangeIndex: 100000 entries, 0 to 99999\n",
      "Data columns (total 22 columns):\n",
      " #   Column                   Non-Null Count   Dtype  \n",
      "---  ------                   --------------   -----  \n",
      " 0   ID                       100000 non-null  int64  \n",
      " 1   Age                      100000 non-null  int64  \n",
      " 2   Gender                   100000 non-null  object \n",
      " 3   Region                   100000 non-null  object \n",
      " 4   Family_Income            100000 non-null  int64  \n",
      " 5   Family_History_Diabetes  100000 non-null  object \n",
      " 6   Parent_Diabetes_Type     34903 non-null   object \n",
      " 7   Genetic_Risk_Score       100000 non-null  int64  \n",
      " 8   BMI                      100000 non-null  float64\n",
      " 9   Physical_Activity_Level  100000 non-null  object \n",
      " 10  Dietary_Habits           100000 non-null  object \n",
      " 11  Fast_Food_Intake         100000 non-null  int64  \n",
      " 12  Smoking                  100000 non-null  object \n",
      " 13  Alcohol_Consumption      100000 non-null  object \n",
      " 14  Fasting_Blood_Sugar      100000 non-null  float64\n",
      " 15  HbA1c                    100000 non-null  float64\n",
      " 16  Cholesterol_Level        100000 non-null  float64\n",
      " 17  Prediabetes              100000 non-null  object \n",
      " 18  Diabetes_Type            25224 non-null   object \n",
      " 19  Sleep_Hours              100000 non-null  float64\n",
      " 20  Stress_Level             100000 non-null  int64  \n",
      " 21  Screen_Time              100000 non-null  float64\n",
      "dtypes: float64(6), int64(6), object(10)\n",
      "memory usage: 16.8+ MB\n"
     ]
    }
   ],
   "source": [
    "df.info()"
   ]
  },
  {
   "cell_type": "code",
   "execution_count": null,
   "metadata": {},
   "outputs": [],
   "source": []
  }
 ],
 "metadata": {
  "kernelspec": {
   "display_name": "Python 3",
   "language": "python",
   "name": "python3"
  },
  "language_info": {
   "codemirror_mode": {
    "name": "ipython",
    "version": 3
   },
   "file_extension": ".py",
   "mimetype": "text/x-python",
   "name": "python",
   "nbconvert_exporter": "python",
   "pygments_lexer": "ipython3",
   "version": "3.12.8"
  }
 },
 "nbformat": 4,
 "nbformat_minor": 2
}
